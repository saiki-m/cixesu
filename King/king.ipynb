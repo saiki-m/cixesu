{
 "cells": [
  {
   "cell_type": "code",
   "execution_count": 1,
   "id": "e635db51",
   "metadata": {},
   "outputs": [],
   "source": [
    "import tkinter as tk\n",
    "\n",
    "\n",
    "def sirusi(koma):\n",
    "     for dy in range(-1, 2):\n",
    "        for dx in range(-1, 2):\n",
    "            sx = x + dx\n",
    "            sy = y + dy\n",
    "            if sx<=-1 or sx>=8 or sy<=-1 or sy>=8:\n",
    "                continue\n",
    "            if board[sy][sx] == -1:\n",
    "                draw_en(sx*80, sy*80, \"green\")\n",
    "                board[sy][sx] == -2\n",
    "            if 6-koma <= board[sy][sx] <= 11-koma:\n",
    "                draw_en(sx*80, sy*80, \"pink\")\n",
    "                board[sy][sx] == -2"
   ]
  },
  {
   "cell_type": "code",
   "execution_count": null,
   "id": "b3dd129a",
   "metadata": {},
   "outputs": [],
   "source": []
  }
 ],
 "metadata": {
  "kernelspec": {
   "display_name": "Python 3 (ipykernel)",
   "language": "python",
   "name": "python3"
  },
  "language_info": {
   "codemirror_mode": {
    "name": "ipython",
    "version": 3
   },
   "file_extension": ".py",
   "mimetype": "text/x-python",
   "name": "python",
   "nbconvert_exporter": "python",
   "pygments_lexer": "ipython3",
   "version": "3.9.7"
  }
 },
 "nbformat": 4,
 "nbformat_minor": 5
}
