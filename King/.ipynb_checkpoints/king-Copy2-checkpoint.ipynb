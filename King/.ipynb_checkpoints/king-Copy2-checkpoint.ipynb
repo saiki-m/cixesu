{
 "cells": [
  {
   "cell_type": "code",
   "execution_count": 2,
   "id": "e635db51",
   "metadata": {},
   "outputs": [],
   "source": [
    "import tkinter as tk\n",
    "\n",
    "class King():\n",
    "    def test():\n",
    "        print(\"111111\")\n",
    "\n",
    "    def sirusi():\n",
    "         for dy in range(-1, 2):\n",
    "            for dx in range(-1, 2):\n",
    "                k = 0\n",
    "                sx = x\n",
    "                sy = y\n",
    "                while True:\n",
    "                    sx += dx\n",
    "                    sy += dy\n",
    "                    if sx<0 or sx>7 or sy<0 or sy>7:\n",
    "                        break\n",
    "                    if board[sy][sx] == 0:\n",
    "                        break\n",
    "                    if board[sy][sx] == 3-iro:\n",
    "                        k += 1\n",
    "                    if board[sy][sx] == iro:\n",
    "                        for i in range(k):\n",
    "                            sx -= dx\n",
    "                            sy -= dy\n",
    "                            board[sy][sx] = iro\n",
    "                        break"
   ]
  },
  {
   "cell_type": "code",
   "execution_count": null,
   "id": "b3dd129a",
   "metadata": {},
   "outputs": [],
   "source": []
  }
 ],
 "metadata": {
  "kernelspec": {
   "display_name": "Python 3 (ipykernel)",
   "language": "python",
   "name": "python3"
  },
  "language_info": {
   "codemirror_mode": {
    "name": "ipython",
    "version": 3
   },
   "file_extension": ".py",
   "mimetype": "text/x-python",
   "name": "python",
   "nbconvert_exporter": "python",
   "pygments_lexer": "ipython3",
   "version": "3.9.7"
  }
 },
 "nbformat": 4,
 "nbformat_minor": 5
}
